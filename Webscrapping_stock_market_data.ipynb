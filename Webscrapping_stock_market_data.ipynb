{
 "cells": [
  {
   "attachments": {},
   "cell_type": "markdown",
   "metadata": {},
   "source": [
    "<span style=\"color:yellow;font-weight:bold;text-decoration:underline; font-size:50px\">Stock market data scrapping</span> "
   ]
  },
  {
   "attachments": {},
   "cell_type": "markdown",
   "metadata": {},
   "source": [
    "# Let's scrape some stock market data!"
   ]
  },
  {
   "cell_type": "code",
   "execution_count": 3,
   "metadata": {},
   "outputs": [
    {
     "name": "stdout",
     "output_type": "stream",
     "text": [
      "                                 Open        High         Low       Close   \n",
      "Date                                                                        \n",
      "2023-06-14 00:00:00-04:00  123.099998  124.050003  121.449997  123.669998  \\\n",
      "2023-06-15 00:00:00-04:00  123.139999  125.459999  122.400002  125.089996   \n",
      "2023-06-16 00:00:00-04:00  125.930000  126.110001  123.279999  123.529999   \n",
      "2023-06-20 00:00:00-04:00  122.930000  124.570000  122.139999  123.099998   \n",
      "2023-06-21 00:00:00-04:00  122.400002  122.660004  120.099998  120.919998   \n",
      "\n",
      "                             Volume  Dividends  Stock Splits  \n",
      "Date                                                          \n",
      "2023-06-14 00:00:00-04:00  30592300        0.0           0.0  \n",
      "2023-06-15 00:00:00-04:00  35246300        0.0           0.0  \n",
      "2023-06-16 00:00:00-04:00  45514000        0.0           0.0  \n",
      "2023-06-20 00:00:00-04:00  26071300        0.0           0.0  \n",
      "2023-06-21 00:00:00-04:00  19226663        0.0           0.0  \n",
      "                                 Open        High         Low       Close   \n",
      "Date                                                                        \n",
      "2022-06-21 00:00:00-04:00  108.929497  112.489502  108.599998  111.543999  \\\n",
      "2022-06-22 00:00:00-04:00  110.556503  113.346497  110.382500  111.487503   \n",
      "2022-06-23 00:00:00-04:00  112.231499  112.742500  110.500504  112.241997   \n",
      "2022-06-24 00:00:00-04:00  112.995003  118.079002  112.952499  117.974998   \n",
      "2022-06-27 00:00:00-04:00  118.273003  118.579498  115.179497  115.833504   \n",
      "\n",
      "                             Volume  Dividends  Stock Splits  \n",
      "Date                                                          \n",
      "2022-06-21 00:00:00-04:00  47416000        0.0           0.0  \n",
      "2022-06-22 00:00:00-04:00  30774000        0.0           0.0  \n",
      "2022-06-23 00:00:00-04:00  28362000        0.0           0.0  \n",
      "2022-06-24 00:00:00-04:00  41164000        0.0           0.0  \n",
      "2022-06-27 00:00:00-04:00  36420000        0.0           0.0  \n"
     ]
    }
   ],
   "source": [
    "import yfinance as yf\n",
    "import pandas as pd\n",
    "\n",
    "# Define the ticker symbol\n",
    "tickerSymbol = 'GOOGL'\n",
    "\n",
    "# Get data on this ticker\n",
    "tickerData = yf.Ticker(tickerSymbol)\n",
    "\n",
    "# Get the stock price history\n",
    "tickerDf = tickerData.history(period='1y')\n",
    "\n",
    "# Print the last 5 rows of the DataFrame\n",
    "print(tickerDf.tail())\n",
    "print(tickerDf.head())\n",
    "# Save the DataFrame to a CSV file\n",
    "# tickerDf.to_csv('googl_stock_data.csv')"
   ]
  },
  {
   "cell_type": "code",
   "execution_count": 4,
   "metadata": {},
   "outputs": [
    {
     "data": {
      "text/plain": [
       "(252, 7)"
      ]
     },
     "execution_count": 4,
     "metadata": {},
     "output_type": "execute_result"
    }
   ],
   "source": [
    "tickerDf.shape"
   ]
  },
  {
   "attachments": {},
   "cell_type": "markdown",
   "metadata": {},
   "source": [
    "\n",
    "\n",
    "This code first defines the ticker symbol for Google (GOOGL) and uses yfinance to get data on this ticker. It then uses the `history` method to get the stock price history for the last year from today and stores it in a Pandas DataFrame. Finally, it prints the last 5 rows of the DataFrame and saves the DataFrame to a CSV file named `googl_stock_data.csv`."
   ]
  },
  {
   "cell_type": "code",
   "execution_count": 5,
   "metadata": {},
   "outputs": [
    {
     "name": "stdout",
     "output_type": "stream",
     "text": [
      "                               Open      High       Low     Close     Volume   \n",
      "Date                                                                           \n",
      "2010-06-29 00:00:00-04:00  1.266667  1.666667  1.169333  1.592667  281494500  \\\n",
      "2010-06-30 00:00:00-04:00  1.719333  2.028000  1.553333  1.588667  257806500   \n",
      "2010-07-01 00:00:00-04:00  1.666667  1.728000  1.351333  1.464000  123282000   \n",
      "2010-07-02 00:00:00-04:00  1.533333  1.540000  1.247333  1.280000   77097000   \n",
      "2010-07-06 00:00:00-04:00  1.333333  1.333333  1.055333  1.074000  103003500   \n",
      "\n",
      "                           Dividends  Stock Splits  \n",
      "Date                                                \n",
      "2010-06-29 00:00:00-04:00        0.0           0.0  \n",
      "2010-06-30 00:00:00-04:00        0.0           0.0  \n",
      "2010-07-01 00:00:00-04:00        0.0           0.0  \n",
      "2010-07-02 00:00:00-04:00        0.0           0.0  \n",
      "2010-07-06 00:00:00-04:00        0.0           0.0  \n",
      "(2410, 7)\n"
     ]
    }
   ],
   "source": [
    "import yfinance as yf\n",
    "import pandas as pd\n",
    "\n",
    "# define ticker symbol\n",
    "tickerSymbol = 'TSLA'\n",
    "\n",
    "# get data on this ticker\n",
    "tickerData = yf.Ticker(tickerSymbol)\n",
    "# tickerData.info\n",
    "\n",
    "# get the historical prices for this ticker\n",
    "tickerDf = tickerData.history(period='1d', start='2010-1-1', end='2020-1-25')\n",
    "\n",
    "# last closing price\n",
    "tickerDf['Close'].iloc[-1]\n",
    "\n",
    "print(tickerDf.head())\n",
    "print(tickerDf.shape)"
   ]
  },
  {
   "cell_type": "code",
   "execution_count": 6,
   "metadata": {},
   "outputs": [
    {
     "data": {
      "text/html": [
       "<div>\n",
       "<style scoped>\n",
       "    .dataframe tbody tr th:only-of-type {\n",
       "        vertical-align: middle;\n",
       "    }\n",
       "\n",
       "    .dataframe tbody tr th {\n",
       "        vertical-align: top;\n",
       "    }\n",
       "\n",
       "    .dataframe thead th {\n",
       "        text-align: right;\n",
       "    }\n",
       "</style>\n",
       "<table border=\"1\" class=\"dataframe\">\n",
       "  <thead>\n",
       "    <tr style=\"text-align: right;\">\n",
       "      <th></th>\n",
       "      <th>Open</th>\n",
       "      <th>High</th>\n",
       "      <th>Low</th>\n",
       "      <th>Close</th>\n",
       "      <th>Volume</th>\n",
       "      <th>Dividends</th>\n",
       "      <th>Stock Splits</th>\n",
       "    </tr>\n",
       "    <tr>\n",
       "      <th>Date</th>\n",
       "      <th></th>\n",
       "      <th></th>\n",
       "      <th></th>\n",
       "      <th></th>\n",
       "      <th></th>\n",
       "      <th></th>\n",
       "      <th></th>\n",
       "    </tr>\n",
       "  </thead>\n",
       "  <tbody>\n",
       "    <tr>\n",
       "      <th>2022-06-21 00:00:00-04:00</th>\n",
       "      <td>165.929993</td>\n",
       "      <td>167.759995</td>\n",
       "      <td>155.970001</td>\n",
       "      <td>157.050003</td>\n",
       "      <td>50724900</td>\n",
       "      <td>0.0</td>\n",
       "      <td>0.0</td>\n",
       "    </tr>\n",
       "    <tr>\n",
       "      <th>2022-06-22 00:00:00-04:00</th>\n",
       "      <td>158.380005</td>\n",
       "      <td>160.789993</td>\n",
       "      <td>155.440002</td>\n",
       "      <td>155.850006</td>\n",
       "      <td>47267800</td>\n",
       "      <td>0.0</td>\n",
       "      <td>0.0</td>\n",
       "    </tr>\n",
       "    <tr>\n",
       "      <th>2022-06-23 00:00:00-04:00</th>\n",
       "      <td>156.270004</td>\n",
       "      <td>159.750000</td>\n",
       "      <td>154.250000</td>\n",
       "      <td>158.750000</td>\n",
       "      <td>40499200</td>\n",
       "      <td>0.0</td>\n",
       "      <td>0.0</td>\n",
       "    </tr>\n",
       "    <tr>\n",
       "      <th>2022-06-24 00:00:00-04:00</th>\n",
       "      <td>161.729996</td>\n",
       "      <td>170.250000</td>\n",
       "      <td>161.300003</td>\n",
       "      <td>170.160004</td>\n",
       "      <td>68736000</td>\n",
       "      <td>0.0</td>\n",
       "      <td>0.0</td>\n",
       "    </tr>\n",
       "    <tr>\n",
       "      <th>2022-06-27 00:00:00-04:00</th>\n",
       "      <td>171.320007</td>\n",
       "      <td>171.750000</td>\n",
       "      <td>168.009995</td>\n",
       "      <td>169.490005</td>\n",
       "      <td>29174600</td>\n",
       "      <td>0.0</td>\n",
       "      <td>0.0</td>\n",
       "    </tr>\n",
       "  </tbody>\n",
       "</table>\n",
       "</div>"
      ],
      "text/plain": [
       "                                 Open        High         Low       Close   \n",
       "Date                                                                        \n",
       "2022-06-21 00:00:00-04:00  165.929993  167.759995  155.970001  157.050003  \\\n",
       "2022-06-22 00:00:00-04:00  158.380005  160.789993  155.440002  155.850006   \n",
       "2022-06-23 00:00:00-04:00  156.270004  159.750000  154.250000  158.750000   \n",
       "2022-06-24 00:00:00-04:00  161.729996  170.250000  161.300003  170.160004   \n",
       "2022-06-27 00:00:00-04:00  171.320007  171.750000  168.009995  169.490005   \n",
       "\n",
       "                             Volume  Dividends  Stock Splits  \n",
       "Date                                                          \n",
       "2022-06-21 00:00:00-04:00  50724900        0.0           0.0  \n",
       "2022-06-22 00:00:00-04:00  47267800        0.0           0.0  \n",
       "2022-06-23 00:00:00-04:00  40499200        0.0           0.0  \n",
       "2022-06-24 00:00:00-04:00  68736000        0.0           0.0  \n",
       "2022-06-27 00:00:00-04:00  29174600        0.0           0.0  "
      ]
     },
     "execution_count": 6,
     "metadata": {},
     "output_type": "execute_result"
    }
   ],
   "source": [
    "import pandas as pd\n",
    "import yfinance as yf\n",
    "import datetime as dt\n",
    "from datetime import date, timedelta\n",
    "\n",
    "today = date.today()\n",
    "d1 = today.strftime(\"%Y-%m-%d\")\n",
    "d1\n",
    "d2 = (today - timedelta(days=365)).strftime(\"%Y-%m-%d\")\n",
    "d2\n",
    "start_date = d2\n",
    "end_date = d1\n",
    "\n",
    "# define ticker symbol\n",
    "tickerSymbol = 'META'\n",
    "\n",
    "# get data on this ticker\n",
    "tickerData = yf.Ticker(tickerSymbol)\n",
    "# tickerData.info\n",
    "\n",
    "# get the historical prices for this ticker\n",
    "tickerDf = tickerData.history(period='1d', start=start_date, end=end_date)\n",
    "tickerDf.head()\n",
    "\n",
    "# tickerDf.to_csv('META.csv')"
   ]
  }
 ],
 "metadata": {
  "kernelspec": {
   "display_name": "webscrapping",
   "language": "python",
   "name": "python3"
  },
  "language_info": {
   "codemirror_mode": {
    "name": "ipython",
    "version": 3
   },
   "file_extension": ".py",
   "mimetype": "text/x-python",
   "name": "python",
   "nbconvert_exporter": "python",
   "pygments_lexer": "ipython3",
   "version": "3.11.3"
  },
  "orig_nbformat": 4
 },
 "nbformat": 4,
 "nbformat_minor": 2
}
